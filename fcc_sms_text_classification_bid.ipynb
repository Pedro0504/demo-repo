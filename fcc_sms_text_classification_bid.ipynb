{
  "cells": [
    {
      "cell_type": "markdown",
      "metadata": {
        "id": "view-in-github",
        "colab_type": "text"
      },
      "source": [
        "<a href=\"https://colab.research.google.com/github/Pedro0504/demo-repo/blob/main/fcc_sms_text_classification_bid.ipynb\" target=\"_parent\"><img src=\"https://colab.research.google.com/assets/colab-badge.svg\" alt=\"Open In Colab\"/></a>"
      ]
    },
    {
      "cell_type": "code",
      "execution_count": null,
      "metadata": {
        "id": "8RZOuS9LWQvv"
      },
      "outputs": [],
      "source": [
        "# import libraries\n",
        "try:\n",
        "  # %tensorflow_version only exists in Colab.\n",
        "  !pip install tf-nightly\n",
        "except Exception:\n",
        "  pass\n",
        "import tensorflow as tf\n",
        "import pandas as pd\n",
        "from tensorflow import keras\n",
        "!pip install tensorflow-datasets\n",
        "import tensorflow_datasets as tfds\n",
        "import numpy as np\n",
        "import matplotlib.pyplot as plt\n",
        "import seaborn as sns\n",
        "from sklearn.model_selection import train_test_split\n",
        "from tensorflow.keras.preprocessing.text import Tokenizer\n",
        "from tensorflow.keras.preprocessing.sequence import pad_sequences\n",
        "from tensorflow.keras.layers import Embedding, GlobalAveragePooling1D, Dense, Dropout, Bidirectional, LSTM\n",
        "from tensorflow.keras.models import Sequential\n",
        "import matplotlib.pyplot as plt\n",
        "import random as rd\n",
        "\n",
        "print(tf.__version__)"
      ]
    },
    {
      "cell_type": "code",
      "execution_count": null,
      "metadata": {
        "id": "lMHwYXHXCar3"
      },
      "outputs": [],
      "source": [
        "# get data files\n",
        "!wget https://cdn.freecodecamp.org/project-data/sms/train-data.tsv\n",
        "!wget https://cdn.freecodecamp.org/project-data/sms/valid-data.tsv\n",
        "\n",
        "train_file_path = \"train-data.tsv\"\n",
        "test_file_path = \"valid-data.tsv\""
      ]
    },
    {
      "cell_type": "code",
      "execution_count": null,
      "metadata": {
        "id": "g_h508FEClxO"
      },
      "outputs": [],
      "source": [
        "train_file_path = \"train-data.tsv\"\n",
        "test_file_path = \"valid-data.tsv\"\n",
        "\n",
        "# lets explore the dataset\n",
        "train_data = pd.read_csv(train_file_path, delimiter='\\t')\n",
        "test_data = pd.read_csv(test_file_path, delimiter='\\t')\n",
        "# rename the column of text so is easier to work\n",
        "train_data.rename(columns ={'ahhhh...just woken up!had a bad dream about u tho,so i dont like u right now :) i didnt know anything about comedy night but i guess im up for it.': 'sms', 'ham':'label'}, inplace = True)\n",
        "test_data.rename(columns ={'i am in hospital da. . i will return home in evening': 'sms', 'ham':'label'}, inplace = True)\n",
        "\n",
        "#let's try to balance the data,the data has a class that dominates the labels,\n",
        "#the trick is to use a copy of train_data,\n",
        "#pass the data to a function that removes random words to create new examples\n",
        "#of the less represented class and then concatenate the copy to the original\n",
        "\n",
        "combine_data = pd.concat([train_data, test_data]).copy()\n",
        "\"\"\"\n",
        "import random as rd\n",
        "def transform(text):\n",
        "  words = text.split()\n",
        "  ind = rd.randint(0, len(words)-1)\n",
        "  if len(words)>1:\n",
        "    return ' '.join(words[:ind]+words[ind+1:])\n",
        "  return text\n",
        "spam = combined_data[combined_data['label'] == 'spam']\n",
        "spam['sms'] = spam['sms'].map(transform)\n",
        "combine_data = pd.concat([combined_data,spam])\n",
        "combine_data.shape\n",
        "\"\"\""
      ]
    },
    {
      "cell_type": "code",
      "source": [
        "#here is necesary to downsize the data from the label ham\n",
        "ham = combine_data[combine_data['label']=='ham']\n",
        "spam = combine_data[combine_data['label']=='spam']\n",
        "\"\"\"\n",
        "ham_min = ham.sample(n=len(spam), random_state = 42)\n",
        "ham_half = ham.sample(frac = 0.3, random_state = 42)\n",
        "combine_data = pd.concat([ham_min, spam])\n",
        "combine_data.shape\n",
        "\"\"\"\n"
      ],
      "metadata": {
        "id": "ccUzOJNerimZ"
      },
      "execution_count": null,
      "outputs": []
    },
    {
      "cell_type": "code",
      "execution_count": null,
      "metadata": {
        "id": "zOMKywn4zReN"
      },
      "outputs": [],
      "source": [
        "MAXLEN = 160\n",
        "VOCAB_SIZE = 1250\n",
        "train_data, test_data = train_test_split(combine_data, test_size = 0.3, random_state = 42)\n",
        "\n",
        "# now we need to get the categorical data in ham into binary\n",
        "train_label = train_data.pop('label').map({'ham': 0, 'spam': 1})\n",
        "test_label = test_data.pop('label').map({'ham':0, 'spam':1})\n",
        "\n",
        "\n",
        "#vectorize\n",
        "def tok_data(top_info):\n",
        "  token = Tokenizer(num_words = VOCAB_SIZE)\n",
        "  token.fit_on_texts(top_info)\n",
        "  train_sec = token.texts_to_sequences(top_info)\n",
        "  train_pad = pad_sequences(train_sec, maxlen=MAXLEN).astype(np.float32)\n",
        "  return train_pad\n",
        "train_data = tok_data(train_data['sms'])\n",
        "test_data = tok_data(test_data['sms'])\n",
        "\n",
        "#test the distribution on the tokenize data to consider the vocabulary size\n",
        "tok = Tokenizer()\n",
        "tok.fit_on_texts(combine_data['sms'])\n",
        "word_index = tok.word_index\n",
        "word_counts = tok.word_counts\n",
        "word_df = pd.DataFrame(list(word_counts.items()), columns = ['word', 'count'])\n",
        "word_df.sort_values(by = 'count', ascending = False)\n",
        "\n",
        "import seaborn as sns\n",
        "plt.figure(figsize = (5,5))\n",
        "sns.histplot(word_df['count'], bins=50, kde =True)\n",
        "plt.xlabel('frequency')\n",
        "plt.ylabel('count')"
      ]
    },
    {
      "cell_type": "code",
      "source": [
        "# now we can create the model\n",
        "# Create Sequential model\n",
        "#model desing\n",
        "from tensorflow.keras.layers import Embedding, GlobalAveragePooling1D, Dense, Dropout, Bidirectional, LSTM,GRU\n",
        "model = tf.keras.Sequential([\n",
        "    Embedding(VOCAB_SIZE, 64, input_length=MAXLEN),\n",
        "    Bidirectional(LSTM(64, return_sequences=True)),\n",
        "    Bidirectional(LSTM(32)),\n",
        "    Dense(16, activation='relu'),\n",
        "    Dropout(0.5),\n",
        "    Dense(1, activation='sigmoid')\n",
        "    ])\n",
        "\n",
        "#model compile\n",
        "model.compile(\n",
        "    loss = 'binary_crossentropy',\n",
        "    optimizer = tf.keras.optimizers.Adam(learning_rate = 0.0001),\n",
        "    metrics = ['accuracy']\n",
        "    )\n",
        "model.summary()"
      ],
      "metadata": {
        "id": "R_phhoDHwamL"
      },
      "execution_count": null,
      "outputs": []
    },
    {
      "cell_type": "code",
      "source": [
        "# configure an early stop and the history of the model\n",
        "early_stop = tf.keras.callbacks.EarlyStopping(monitor = 'val_loss', patience = 6, restore_best_weights = True)\n",
        "history = model.fit(\n",
        "    train_data, train_label,\n",
        "    epochs = 10,\n",
        "    validation_data = (test_data, test_label),\n",
        "    callbacks = [early_stop])\n"
      ],
      "metadata": {
        "id": "Iw6wLaErwohd"
      },
      "execution_count": null,
      "outputs": []
    },
    {
      "cell_type": "code",
      "source": [
        "loss, accuracy = model.evaluate(test_data, test_label)\n",
        "print(f'Loss:{loss}')\n",
        "print(f'Accuracy:{accuracy}')\n",
        "import seaborn as sns\n",
        "sns.lineplot(x = history.epoch, y = history.history['accuracy'], label = 'ACC')\n",
        "sns.lineplot(x = history.epoch, y = history.history['val_accuracy'], label = 'VAL_ACC')"
      ],
      "metadata": {
        "id": "Qnqkymo_yeZl"
      },
      "execution_count": null,
      "outputs": []
    },
    {
      "cell_type": "code",
      "execution_count": null,
      "metadata": {
        "id": "J9tD9yACG6M9"
      },
      "outputs": [],
      "source": [
        "# function to predict messages based on model\n",
        "# (should return list containing prediction and label, ex. [0.008318834938108921, 'ham'])\n",
        "def predict_message(pred_text):\n",
        "  if isinstance(pred_text, str):\n",
        "    pred_text = [pred_text]\n",
        "  prep_text = tok_data(pred_text)\n",
        "  prediction_np = model.predict(prep_text)\n",
        "  if (prediction_np[0]) > 0.5:\n",
        "    prediction = 'spam'\n",
        "  else:\n",
        "    prediction = 'ham'\n",
        "  return (prediction_np[0],prediction)\n",
        "\n",
        "pred_text = \"how are you doing today?\"\n",
        "\n",
        "test_messages = [\"how are you doing today\",\n",
        "                   \"sale today! to stop texts call 98912460324\",\n",
        "                   \"i dont want to go. can we try it a different day? available sat\",\n",
        "                   \"our new mobile video service is live. just install on your phone to start watching.\",\n",
        "                   \"you have won £1000 cash! call to claim your prize.\",\n",
        "                   \"i'll bring it tomorrow. don't forget the milk.\",\n",
        "                   \"wow, is your arm alright. that happened to me one time too\"]\n",
        "label = [\"ham\", \"spam\", \"ham\", \"spam\", \"spam\", \"ham\", \"ham\"]\n",
        "final = pd.DataFrame({'sms':test_messages,'label': label})\n",
        "\n",
        "for i in range(len(final)):\n",
        "  pred = predict_message(final['sms'][i])\n",
        "  print(pred, final['label'][i])"
      ]
    },
    {
      "cell_type": "code",
      "execution_count": null,
      "metadata": {
        "id": "Dxotov85SjsC"
      },
      "outputs": [],
      "source": [
        "# Run this cell to test your function and model. Do not modify contents.\n",
        "def test_predictions():\n",
        "  test_messages = [\"how are you doing today\",\n",
        "                   \"sale today! to stop texts call 98912460324\",\n",
        "                   \"i dont want to go. can we try it a different day? available sat\",\n",
        "                   \"our new mobile video service is live. just install on your phone to start watching.\",\n",
        "                   \"you have won £1000 cash! call to claim your prize.\",\n",
        "                   \"i'll bring it tomorrow. don't forget the milk.\",\n",
        "                   \"wow, is your arm alright. that happened to me one time too\"\n",
        "                  ]\n",
        "\n",
        "  test_answers = [\"ham\", \"spam\", \"ham\", \"spam\", \"spam\", \"ham\", \"ham\"]\n",
        "  passed = True\n",
        "\n",
        "  for msg, ans in zip(test_messages, test_answers):\n",
        "    prediction = predict_message(msg)\n",
        "    if prediction[1] != ans:\n",
        "      passed = False\n",
        "\n",
        "  if passed:\n",
        "    print(\"You passed the challenge. Great job!\")\n",
        "  else:\n",
        "    print(\"You haven't passed yet. Keep trying.\")\n",
        "\n",
        "test_predictions()\n"
      ]
    }
  ],
  "metadata": {
    "colab": {
      "name": "fcc_sms_text_classification.ipynb",
      "private_outputs": true,
      "provenance": [],
      "include_colab_link": true
    },
    "kernelspec": {
      "display_name": "Python 3",
      "name": "python3"
    },
    "language_info": {}
  },
  "nbformat": 4,
  "nbformat_minor": 0
}