{
  "cells": [
    {
      "cell_type": "markdown",
      "metadata": {
        "id": "view-in-github",
        "colab_type": "text"
      },
      "source": [
        "<a href=\"https://colab.research.google.com/github/Pedro0504/demo-repo/blob/main/fcc_sms_text_classification.ipynb\" target=\"_parent\"><img src=\"https://colab.research.google.com/assets/colab-badge.svg\" alt=\"Open In Colab\"/></a>"
      ]
    },
    {
      "cell_type": "code",
      "execution_count": null,
      "metadata": {
        "id": "8RZOuS9LWQvv"
      },
      "outputs": [],
      "source": [
        "# import libraries\n",
        "try:\n",
        "  # %tensorflow_version only exists in Colab.\n",
        "  !pip install tf-nightly\n",
        "except Exception:\n",
        "  pass\n",
        "import tensorflow as tf\n",
        "import pandas as pd\n",
        "from tensorflow import keras\n",
        "!pip install tensorflow-datasets\n",
        "import tensorflow_datasets as tfds\n",
        "import numpy as np\n",
        "import matplotlib.pyplot as plt\n",
        "import seaborn as sns\n",
        "from tensorflow.keras.models import Sequential\n",
        "from tensorflow.keras.layers import TextVectorization\n",
        "import seaborn as sns\n",
        "import matplotlib.pyplot as plt\n",
        "\n",
        "\n",
        "print(tf.__version__)"
      ]
    },
    {
      "cell_type": "code",
      "execution_count": null,
      "metadata": {
        "id": "lMHwYXHXCar3"
      },
      "outputs": [],
      "source": [
        "# get data files\n",
        "!wget https://cdn.freecodecamp.org/project-data/sms/train-data.tsv\n",
        "!wget https://cdn.freecodecamp.org/project-data/sms/valid-data.tsv\n",
        "\n",
        "train_file_path = \"train-data.tsv\"\n",
        "test_file_path = \"valid-data.tsv\""
      ]
    },
    {
      "cell_type": "code",
      "source": [
        "#First we have to load the data\n",
        "train_dataset = pd.read_csv(train_file_path, delimiter='\\t')\n",
        "test_dataset = pd.read_csv(test_file_path, delimiter='\\t')\n",
        "# the names of the columns are long so it's necessary to change them\n",
        "train_dataset.rename(columns ={'ahhhh...just woken up!had a bad dream about u tho,so i dont like u right now :) i didnt know anything about comedy night but i guess im up for it.': 'sms', 'ham':'label'}, inplace = True)\n",
        "test_dataset.rename(columns ={'i am in hospital da. . i will return home in evening': 'sms', 'ham':'label'}, inplace = True)\n",
        "# the data in the class column needs to be numerical\n",
        "# so we use the map() to change the values\n",
        "train_dataset['label'] = train_dataset['label'].map({'ham':0, 'spam':1})\n",
        "test_dataset['label'] = test_dataset['label'].map({'ham':0, 'spam':1})\n",
        "# the data then is divided in training and testing\n",
        "# data and labels\n",
        "train_label = train_dataset.pop('label').astype('float32')\n",
        "test_label = test_dataset.pop('label').astype('float32')\n",
        "train_data = train_dataset['sms']\n",
        "test_data = test_dataset['sms']\n",
        "\n",
        "\n"
      ],
      "metadata": {
        "id": "OAlXQdqPBWtb"
      },
      "execution_count": null,
      "outputs": []
    },
    {
      "cell_type": "code",
      "source": [
        "# we need to create a TextVectorization() object\n",
        "# and adapting it to the train_data\n",
        "vector = tf.keras.layers.TextVectorization()\n",
        "vector.adapt(train_data)"
      ],
      "metadata": {
        "id": "Mh6zHxpmBdU-"
      },
      "execution_count": null,
      "outputs": []
    },
    {
      "cell_type": "code",
      "source": [
        "# now we can create the model\n",
        "# Create Sequential model, as in tutorial,\n",
        "# simple combination of Embedding, Dense, Bidirectional and LSTM\n",
        "\n",
        "from tensorflow.keras.layers import Embedding, Dense, Bidirectional, LSTM\n",
        "model = tf.keras.Sequential([\n",
        "    Embedding(\n",
        "        input_dim = len(vector.get_vocabulary()),\n",
        "        output_dim = 64,\n",
        "        mask_zero = True),\n",
        "    Bidirectional(LSTM(64)),\n",
        "    Dense(64, activation='relu'),\n",
        "    Dense(1, activation='sigmoid')\n",
        "    ])\n",
        "\n",
        "#model compile\n",
        "model.compile(\n",
        "    loss = 'binary_crossentropy',\n",
        "    optimizer = tf.keras.optimizers.Adam(1e-4),\n",
        "    metrics = ['accuracy']\n",
        "    )\n",
        "model.summary()"
      ],
      "metadata": {
        "id": "R_phhoDHwamL"
      },
      "execution_count": null,
      "outputs": []
    },
    {
      "cell_type": "code",
      "source": [
        "# we make the compilation,\n",
        "# we create a early stop variable to control the validation loss\n",
        "early_stop = tf.keras.callbacks.EarlyStopping(monitor = 'val_loss', patience = 6, restore_best_weights = True)\n",
        "history = model.fit(\n",
        "    vector(train_data),train_label,\n",
        "    epochs = 10,\n",
        "    validation_data = (vector(test_data), test_label),\n",
        "    validation_steps = 30,\n",
        "    callbacks = [early_stop])\n"
      ],
      "metadata": {
        "id": "Iw6wLaErwohd"
      },
      "execution_count": null,
      "outputs": []
    },
    {
      "cell_type": "code",
      "source": [
        "# check for the model behavior during training\n",
        "loss, accuracy = model.evaluate(vector(test_data), test_label)\n",
        "print(f'Loss:{loss}')\n",
        "print(f'Accuracy:{accuracy}')\n",
        "import seaborn as sns\n",
        "sns.lineplot(x = history.epoch, y = history.history['accuracy'], label = 'ACC')\n",
        "sns.lineplot(x = history.epoch, y = history.history['val_accuracy'], label = 'VAL_ACC')"
      ],
      "metadata": {
        "id": "Qnqkymo_yeZl"
      },
      "execution_count": null,
      "outputs": []
    },
    {
      "cell_type": "code",
      "execution_count": null,
      "metadata": {
        "id": "J9tD9yACG6M9"
      },
      "outputs": [],
      "source": [
        "# function to predict messages based on model\n",
        "# (should return list containing prediction and label, ex. [0.008318834938108921, 'ham'])\n",
        "def predict_message(pred_text):\n",
        "  pred_vect = vector(tf.expand_dims(pred_text, 0))\n",
        "  pred = model.predict(pred_vect)\n",
        "  if (pred[0]) > 0.5:\n",
        "    prediction = 'spam'\n",
        "  else:\n",
        "    prediction = 'ham'\n",
        "  return (pred[0],prediction)\n"
      ]
    },
    {
      "cell_type": "code",
      "execution_count": null,
      "metadata": {
        "id": "Dxotov85SjsC"
      },
      "outputs": [],
      "source": [
        "# Run this cell to test your function and model. Do not modify contents.\n",
        "def test_predictions():\n",
        "  test_messages = [\"how are you doing today\",\n",
        "                   \"sale today! to stop texts call 98912460324\",\n",
        "                   \"i dont want to go. can we try it a different day? available sat\",\n",
        "                   \"our new mobile video service is live. just install on your phone to start watching.\",\n",
        "                   \"you have won £1000 cash! call to claim your prize.\",\n",
        "                   \"i'll bring it tomorrow. don't forget the milk.\",\n",
        "                   \"wow, is your arm alright. that happened to me one time too\"\n",
        "                  ]\n",
        "\n",
        "  test_answers = [\"ham\", \"spam\", \"ham\", \"spam\", \"spam\", \"ham\", \"ham\"]\n",
        "  passed = True\n",
        "\n",
        "  for msg, ans in zip(test_messages, test_answers):\n",
        "    prediction = predict_message(msg)\n",
        "    if prediction[1] != ans:\n",
        "      passed = False\n",
        "\n",
        "  if passed:\n",
        "    print(\"You passed the challenge. Great job!\")\n",
        "  else:\n",
        "    print(\"You haven't passed yet. Keep trying.\")\n",
        "\n",
        "test_predictions()\n"
      ]
    }
  ],
  "metadata": {
    "colab": {
      "name": "fcc_sms_text_classification.ipynb",
      "private_outputs": true,
      "provenance": [],
      "toc_visible": true,
      "include_colab_link": true
    },
    "kernelspec": {
      "display_name": "Python 3",
      "name": "python3"
    },
    "language_info": {}
  },
  "nbformat": 4,
  "nbformat_minor": 0
}