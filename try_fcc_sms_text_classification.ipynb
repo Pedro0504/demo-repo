{
  "cells": [
    {
      "cell_type": "code",
      "execution_count": null,
      "metadata": {
        "id": "8RZOuS9LWQvv"
      },
      "outputs": [],
      "source": [
        "# import libraries\n",
        "try:\n",
        "  # %tensorflow_version only exists in Colab.\n",
        "  !pip install tf-nightly\n",
        "except Exception:\n",
        "  pass\n",
        "import tensorflow as tf\n",
        "import pandas as pd\n",
        "from tensorflow import keras\n",
        "!pip install tensorflow-datasets\n",
        "import tensorflow_datasets as tfds\n",
        "import numpy as np\n",
        "import matplotlib.pyplot as plt\n",
        "from tensorflow.keras.datasets import imdb\n",
        "from keras.preprocessing import sequence\n",
        "from tensorflow.keras.preprocessing.text import Tokenizer\n",
        "from keras.preprocessing.sequence import pad_sequences\n",
        "from keras.models import Sequential\n",
        "from keras.layers import Dense, Embedding, SimpleRNN, GRU, MaxPooling1D, Conv1D, Flatten\n",
        "from keras.layers import LSTM, Dropout, Bidirectional, GlobalMaxPooling1D, BatchNormalization\n",
        "from tensorflow.keras.optimizers import Adam\n",
        "from tensorflow.keras.callbacks import EarlyStopping\n",
        "\n",
        "\n",
        "\n",
        "print(tf.__version__)"
      ]
    },
    {
      "cell_type": "code",
      "execution_count": null,
      "metadata": {
        "id": "lMHwYXHXCar3"
      },
      "outputs": [],
      "source": [
        "# get data files\n",
        "!wget https://cdn.freecodecamp.org/project-data/sms/train-data.tsv\n",
        "!wget https://cdn.freecodecamp.org/project-data/sms/valid-data.tsv\n",
        "\n",
        "train_file_path = \"train-data.tsv\"\n",
        "test_file_path = \"valid-data.tsv\""
      ]
    },
    {
      "cell_type": "code",
      "source": [],
      "metadata": {
        "id": "y3x9JtMNmhfa"
      },
      "execution_count": null,
      "outputs": []
    },
    {
      "cell_type": "code",
      "execution_count": null,
      "metadata": {
        "id": "g_h508FEClxO"
      },
      "outputs": [],
      "source": [
        "\n",
        "# lets explore the dataset\n",
        "train_data = pd.read_csv(train_file_path, delimiter='\\t')\n",
        "test_data = pd.read_csv(test_file_path, delimiter='\\t')\n",
        "# rename the column of text so is easier to work\n",
        "train_data.rename(columns ={'ahhhh...just woken up!had a bad dream about u tho,so i dont like u right now :) i didnt know anything about comedy night but i guess im up for it.': 'sms'}, inplace = True)\n",
        "test_data.rename(columns ={'i am in hospital da. . i will return home in evening': 'sms'}, inplace = True)\n",
        "\n",
        "# now we need to get the categorical data in ham into binary\n",
        "train_label = train_data.pop('ham').map({'ham': 0, 'spam': 1})\n",
        "test_label = test_data.pop('ham').map({'ham':0, 'spam':1})\n",
        "\n",
        "MAXLEN = 300\n",
        "BATCH_SIZE = 64\n",
        "\n"
      ]
    },
    {
      "cell_type": "code",
      "execution_count": null,
      "metadata": {
        "id": "zOMKywn4zReN"
      },
      "outputs": [],
      "source": [
        "# we use the tokenizer function to turn the data into something\n",
        "# the model can use\n",
        "def tok_data(top_info):\n",
        "  token = Tokenizer(num_words = 7691)\n",
        "  token.fit_on_texts(top_info)\n",
        "  train_sec = token.texts_to_sequences(top_info)\n",
        "  train_pad = pad_sequences(train_sec, maxlen=MAXLEN).astype(np.float32)\n",
        "  return train_pad\n",
        "train_data = tok_data(train_data['sms'])\n",
        "test_data = tok_data(test_data['sms'])\n",
        "\n",
        "#we have to pass the label dataframe as a np.array\n",
        "train_label = (train_label).astype('float32')\n",
        "test_label = (test_label).astype('float32')\n",
        "print(test_data.shape)\n"
      ]
    },
    {
      "cell_type": "code",
      "source": [
        "# now we can create the model\n",
        "# Create Sequential model\n",
        "model = tf.keras.Sequential([\n",
        "    Embedding(input_dim = 7691, output_dim =128, input_length = MAXLEN),\n",
        "    LSTM(128, return_sequences=True),\n",
        "    Dropout(0.2),\n",
        "    LSTM(64),\n",
        "    Dropout(0.2),\n",
        "    Dense(1, activation='sigmoid')\n",
        "])\n",
        "model.compile(loss='binary_crossentropy', optimizer=Adam(learning_rate= 0.0001), metrics=['accuracy'])\n",
        "model.summary()\n",
        "\n"
      ],
      "metadata": {
        "id": "7iZA9G3jL3qY"
      },
      "execution_count": null,
      "outputs": []
    },
    {
      "cell_type": "code",
      "source": [
        "# then we need to fit the model\n",
        "# it was necessary to implement an early stop function\n",
        "early_stop = EarlyStopping(monitor='val_loss', patience=5, restore_best_weights=True)\n",
        "model.fit(train_pad, train_label, epochs=15, validation_data=(test_pad, test_label), callbacks = [early_stop])"
      ],
      "metadata": {
        "id": "eBtAvS2FVMGN"
      },
      "execution_count": null,
      "outputs": []
    },
    {
      "cell_type": "code",
      "source": [
        "loss,accuracy = model.evaluate(test_pad, test_label)\n",
        "print(f'Loss:{loss}, Precission:{accuracy}')"
      ],
      "metadata": {
        "id": "LBJW3F4hQE-B"
      },
      "execution_count": null,
      "outputs": []
    },
    {
      "cell_type": "code",
      "source": [
        "pred_text = \"how are you doing today?\"\n",
        "pred_text_pad = tok_data(pred_text)\n",
        "prediction = model.predict(pred_text_pad)\n",
        "print(f'Prediction:{prediction}')\n",
        "predicted = np.argmax(prediction, axis = 1)\n",
        "labels = ['ham', 'spam']\n",
        "resultado = labels[predicted[0]]\n",
        "print(f'Predicted:{resultado}')"
      ],
      "metadata": {
        "id": "MzWOAE1bk-iJ"
      },
      "execution_count": null,
      "outputs": []
    },
    {
      "cell_type": "code",
      "source": [],
      "metadata": {
        "id": "_24jhQS_NZ4d"
      },
      "execution_count": null,
      "outputs": []
    },
    {
      "cell_type": "code",
      "execution_count": null,
      "metadata": {
        "id": "J9tD9yACG6M9"
      },
      "outputs": [],
      "source": [
        "# function to predict messages based on model\n",
        "# (should return list containing prediction and label, ex. [0.008318834938108921, 'ham'])\n",
        "def predict_message(pred_text):\n",
        "  if isinstance(pred_text, str):\n",
        "    pred_text = [pred_text]\n",
        "  prep_text = tok_data(pred_text)\n",
        "  prediction_np = model.predict(prep_text)\n",
        "  if (prediction_np[0]*100) > 0.5:\n",
        "    prediction = 'spam'\n",
        "  else:\n",
        "    prediction = 'ham'\n",
        "  return (prediction_np[0],prediction)\n",
        "\n",
        "pred_text = \"sale today! to stop texts call 98912460324\"\n",
        "\n",
        "prediction = predict_message(pred_text)\n",
        "print(prediction)"
      ]
    },
    {
      "cell_type": "code",
      "execution_count": null,
      "metadata": {
        "id": "Dxotov85SjsC"
      },
      "outputs": [],
      "source": [
        "# Run this cell to test your function and model. Do not modify contents.\n",
        "def test_predictions():\n",
        "  test_messages = [\"how are you doing today\",\n",
        "                   \"sale today! to stop texts call 98912460324\",\n",
        "                   \"i dont want to go. can we try it a different day? available sat\",\n",
        "                   \"our new mobile video service is live. just install on your phone to start watching.\",\n",
        "                   \"you have won £1000 cash! call to claim your prize.\",\n",
        "                   \"i'll bring it tomorrow. don't forget the milk.\",\n",
        "                   \"wow, is your arm alright. that happened to me one time too\"\n",
        "                  ]\n",
        "\n",
        "  test_answers = [\"ham\", \"spam\", \"ham\", \"spam\", \"spam\", \"ham\", \"ham\"]\n",
        "  passed = True\n",
        "\n",
        "  for msg, ans in zip(test_messages, test_answers):\n",
        "    prediction = predict_message(msg)\n",
        "    if prediction[1] != ans:\n",
        "      passed = False\n",
        "\n",
        "  if passed:\n",
        "    print(\"You passed the challenge. Great job!\")\n",
        "  else:\n",
        "    print(\"You haven't passed yet. Keep trying.\")\n",
        "\n",
        "test_predictions()\n"
      ]
    }
  ],
  "metadata": {
    "colab": {
      "name": "fcc_sms_text_classification.ipynb",
      "private_outputs": true,
      "provenance": []
    },
    "kernelspec": {
      "display_name": "Python 3",
      "name": "python3"
    },
    "language_info": {}
  },
  "nbformat": 4,
  "nbformat_minor": 0
}